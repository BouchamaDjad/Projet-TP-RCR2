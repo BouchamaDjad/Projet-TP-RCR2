{
 "cells": [
  {
   "cell_type": "code",
   "execution_count": null,
   "metadata": {},
   "outputs": [
    {
     "name": "stdout",
     "output_type": "stream",
     "text": [
      "+---------------------+-------------------------+\n",
      "| Fraud Likelihood    |   phi(Fraud Likelihood) |\n",
      "+=====================+=========================+\n",
      "| Fraud Likelihood(0) |                  0.3667 |\n",
      "+---------------------+-------------------------+\n",
      "| Fraud Likelihood(1) |                  0.4000 |\n",
      "+---------------------+-------------------------+\n",
      "| Fraud Likelihood(2) |                  0.2333 |\n",
      "+---------------------+-------------------------+\n"
     ]
    }
   ],
   "source": [
    "from pgmpy.models import BayesianNetwork\n",
    "from pgmpy.factors.discrete import TabularCPD\n",
    "from pgmpy.inference import VariableElimination\n",
    "\n",
    "# Création du modèle\n",
    "model = BayesianNetwork([('Account Age', 'Spending Patterns'),\n",
    "                         ('Spending Patterns', 'Transaction Amount'),\n",
    "                         ('Transaction Location', 'Transaction Amount'),\n",
    "                         ('Transaction Amount', 'Fraud Likelihood'),\n",
    "                         ('Transaction Location', 'Fraud Likelihood')])\n",
    "\n",
    "# Définition des CPTs (Tables de probabilité conditionnelle)\n",
    "\n",
    "# CPT pour 'Account Age'\n",
    "cpd_account_age = TabularCPD(variable='Account Age', variable_card=3, \n",
    "                             values=[[0.4], [0.4], [0.2]])  # Proba: nouveau, moyen, ancien\n",
    "\n",
    "# CPT pour 'Spending Patterns', dépend de 'Account Age'\n",
    "cpd_spending_patterns = TabularCPD(variable='Spending Patterns', variable_card=2,\n",
    "                                   values=[[0.7, 0.3, 0.2],  # normales, anormales\n",
    "                                           [0.3, 0.7, 0.8]], \n",
    "                                   evidence=['Account Age'],\n",
    "                                   evidence_card=[3])\n",
    "\n",
    "# CPT pour 'Transaction Amount'\n",
    "cpd_transaction_amount = TabularCPD(variable='Transaction Amount', variable_card=3, \n",
    "                                    values=[[0.4, 0.3, 0.1, 0.2],  # faible, moyen, élevé\n",
    "                                            [0.3, 0.5, 0.2, 0.4],\n",
    "                                            [0.3, 0.2, 0.7, 0.4]],\n",
    "                                    evidence=['Spending Patterns', 'Transaction Location'], \n",
    "                                    evidence_card=[2, 2])\n",
    "\n",
    "# CPT pour 'Transaction Location'\n",
    "cpd_transaction_location = TabularCPD(variable='Transaction Location', variable_card=2, \n",
    "                                      values=[[0.9], [0.1]])  # Proba: locale, étrangère\n",
    "\n",
    "# CPT pour 'Fraud Likelihood'\n",
    "cpd_fraud_likelihood = TabularCPD(variable='Fraud Likelihood', variable_card=3, \n",
    "                                  values=[[0.7, 0.6, 0.3, 0.2, 0.1, 0.3],  # faible, modérée, élevée\n",
    "                                          [0.2, 0.3, 0.4, 0.4, 0.6, 0.5],\n",
    "                                          [0.1, 0.1, 0.3, 0.4, 0.3, 0.2]],\n",
    "                                  evidence=['Transaction Amount', 'Transaction Location'], \n",
    "                                  evidence_card=[3, 2])\n",
    "\n",
    "# Ajouter les CPTs au modèle\n",
    "model.add_cpds(cpd_account_age, cpd_spending_patterns, cpd_transaction_amount, \n",
    "               cpd_transaction_location, cpd_fraud_likelihood)\n",
    "\n",
    "# Vérification du modèle\n",
    "model.check_model()\n",
    "\n",
    "# Inférence\n",
    "inference = VariableElimination(model)\n",
    "\n",
    "# Effectuer une inférence pour estimer la probabilité de fraude en fonction de certaines variables\n",
    "result = inference.query(variables=['Fraud Likelihood'], evidence={'Account Age': 0, 'Spending Patterns': 1, 'Transaction Location': 1})\n",
    "\n",
    "print(result)"
   ]
  }
 ],
 "metadata": {
  "kernelspec": {
   "display_name": "Python 3",
   "language": "python",
   "name": "python3"
  },
  "language_info": {
   "codemirror_mode": {
    "name": "ipython",
    "version": 3
   },
   "file_extension": ".py",
   "mimetype": "text/x-python",
   "name": "python",
   "nbconvert_exporter": "python",
   "pygments_lexer": "ipython3",
   "version": "3.12.3"
  }
 },
 "nbformat": 4,
 "nbformat_minor": 2
}
