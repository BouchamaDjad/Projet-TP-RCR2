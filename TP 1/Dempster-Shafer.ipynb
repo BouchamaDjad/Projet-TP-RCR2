{
 "cells": [
  {
   "attachments": {},
   "cell_type": "markdown",
   "metadata": {},
   "source": [
    "<center><h1>TP1 RCR2:</h1></center>\n",
    "<center><h2>Logique des fonctions de croyances</h2></center>"
   ]
  },
  {
   "cell_type": "code",
   "execution_count": 73,
   "metadata": {},
   "outputs": [],
   "source": [
    "import pyds\n",
    "from pyds import MassFunction"
   ]
  },
  {
   "cell_type": "code",
   "execution_count": 7,
   "metadata": {},
   "outputs": [],
   "source": [
    "def exercice3():\n",
    "    m1 = MassFunction(\n",
    "            {\n",
    "                (\"TAHD\",\"TAHI\"):0.55,\n",
    "                ('TALS','ELAB'):0.3,\n",
    "                ('TAHD',):0.13,\n",
    "                (\"TAHD\", \"TALS\", \"ELAB\", \"TAHI\"):0.02\n",
    "            }\n",
    "        )\n",
    "\n",
    "    m2 = MassFunction(\n",
    "        {\n",
    "            ('TAHI',):0.68,\n",
    "            ('TAHD', 'TAHI', 'TALS'):0.32,\n",
    "        }\n",
    "    )\n",
    "\n",
    "    m3 = MassFunction(\n",
    "        {\n",
    "            ('ELAB',):0.75,\n",
    "            (\"TAHD\", \"TALS\", \"ELAB\", \"TAHI\"):0.25\n",
    "        }\n",
    "    )\n",
    "\n",
    "    m4 = MassFunction({(\"TAHD\", \"TALS\", \"ELAB\", \"TAHI\"):1})\n",
    "\n",
    "    print(m1,m2,m3,m4, sep=\"\\n\")\n",
    "\n",
    "    m12 = m1 & m2\n",
    "    m123 = m12 & m3\n",
    "    m1234 = m123 & m4\n",
    "\n",
    "    print(m12, m123, m1234, sep=\"\\n\")\n",
    "\n",
    "    print(\"l'hypothese la plus soutenues est \",max(list(m1234.items()), key=lambda x:x[1]))\n",
    "\n",
    "    print(\"les tailles des intervalles de croyance : \", sorted([(h, m1234.pl(h) - m1234.bel(h)) for h in list(m1234.keys())], key=lambda x:x[1]))"
   ]
  },
  {
   "cell_type": "code",
   "execution_count": 8,
   "metadata": {},
   "outputs": [
    {
     "name": "stdout",
     "output_type": "stream",
     "text": [
      "{{'TAHI', 'TAHD'}:0.55; {'ELAB', 'TALS'}:0.3; {'TAHD'}:0.13; {'ELAB', 'TAHI', 'TALS', 'TAHD'}:0.02}\n",
      "{{'TAHI'}:0.68; {'TAHI', 'TALS', 'TAHD'}:0.32}\n",
      "{{'ELAB'}:0.75; {'ELAB', 'TAHI', 'TALS', 'TAHD'}:0.25}\n",
      "{{'ELAB', 'TAHI', 'TALS', 'TAHD'}:1.0}\n",
      "{{'TAHI'}:0.5477671000565291; {'TAHI', 'TAHD'}:0.24872809496890896; {'TALS'}:0.13566986998304126; {'TAHD'}:0.058790276992651214; {'TAHI', 'TALS', 'TAHD'}:0.009044657998869417}\n",
      "{{'TAHI'}:0.5477671000565292; {'TAHI', 'TAHD'}:0.248728094968909; {'TALS'}:0.13566986998304129; {'TAHD'}:0.05879027699265122; {'TAHI', 'TALS', 'TAHD'}:0.009044657998869419}\n",
      "{{'TAHI'}:0.5477671000565292; {'TAHI', 'TAHD'}:0.248728094968909; {'TALS'}:0.13566986998304129; {'TAHD'}:0.05879027699265122; {'TAHI', 'TALS', 'TAHD'}:0.009044657998869419}\n",
      "l'hypothese la plus soutenues est  (frozenset({'TAHI'}), 0.5477671000565292)\n",
      "les tailles des intervalles de croyance :  [(frozenset({'TAHI', 'TALS', 'TAHD'}), 0.0), (frozenset({'TALS'}), 0.009044657998869415), (frozenset({'TAHI', 'TAHD'}), 0.009044657998869443), (frozenset({'TAHD'}), 0.2577727529677784), (frozenset({'TAHI'}), 0.25777275296777846)]\n"
     ]
    }
   ],
   "source": [
    "exercice3()"
   ]
  },
  {
   "cell_type": "code",
   "execution_count": 6,
   "metadata": {},
   "outputs": [
    {
     "data": {
      "text/plain": [
       "{frozenset({'A'}): 0.22222222222222227, frozenset({'B'}): 0.7777777777777778}"
      ]
     },
     "execution_count": 6,
     "metadata": {},
     "output_type": "execute_result"
    }
   ],
   "source": [
    "from pyds import MassFunction\n",
    "\n",
    "m1 = MassFunction({'A':0.5, 'B':0.5})\n",
    "\n",
    "m2 = MassFunction({'A':0.2, 'B':0.7})\n",
    "\n",
    "m1 & m2 # MassFunction({'A': 0.22, 'B': 0.78})\n",
    "m1.com(m2) # MassFunction({'A': 0.22, 'B': 0.78})\n"
   ]
  },
  {
   "cell_type": "markdown",
   "metadata": {},
   "source": [
    "# First Example"
   ]
  },
  {
   "cell_type": "code",
   "execution_count": 11,
   "metadata": {},
   "outputs": [
    {
     "name": "stdout",
     "output_type": "stream",
     "text": [
      "Combined mass function: {{'influenza'}:0.6787878787878788; {'pneumonia'}:0.27272727272727265; {'no_disease'}:0.04848484848484849}\n"
     ]
    }
   ],
   "source": [
    "from pyds import MassFunction\n",
    "\n",
    "# Define the frame of discernment\n",
    "frame = {'influenza', 'pneumonia', 'no_disease'}\n",
    "\n",
    "# Define mass functions based on different sources of evidence (experts)\n",
    "m1 = MassFunction({\n",
    "    ('influenza',): 0.5,\n",
    "    ('pneumonia',): 0.2, \n",
    "    ('no_disease',): 0.1, \n",
    "    ('influenza','pneumonia',): 0.1, \n",
    "    ('influenza','no_disease',): 0.1}\n",
    ")\n",
    "m2 = MassFunction({\n",
    "    ('influenza',): 0.4, \n",
    "    ('pneumonia',): 0.3, \n",
    "    ('no_disease',): 0.2, \n",
    "    ('pneumonia,no_disease',): 0.1}\n",
    ")\n",
    "m3 = MassFunction({\n",
    "    ('influenza',): 0.3, \n",
    "    ('pneumonia',): 0.4, \n",
    "    ('no_disease',): 0.2, \n",
    "    ('influenza','pneumonia',): 0.1}\n",
    ")\n",
    "\n",
    "# Combine the mass functions using Dempster's rule of combination\n",
    "combined_m = m1 & m2 & m3\n",
    "\n",
    "# Print the combined mass function\n",
    "print('Combined mass function:', combined_m)"
   ]
  },
  {
   "cell_type": "markdown",
   "metadata": {},
   "source": [
    "**<span style=\"color:red;\">Intervalle de confiance et non pas de certitude</span>**"
   ]
  },
  {
   "cell_type": "markdown",
   "metadata": {},
   "source": [
    "# Second Example"
   ]
  },
  {
   "cell_type": "markdown",
   "metadata": {},
   "source": [
    "### Real-World Example of Dempster-Shafer Theory: Oil Spill Source Identification\n",
    "\n",
    "Inspired by the examples in the document, let’s consider an **environmental application**: identifying the source of an oil spill in a marine ecosystem. \n",
    "\n",
    "---\n",
    "\n",
    "#### **Scenario**\n",
    "An oil spill is detected near a coastal region. Investigators suspect it could originate from one of three sources:\n",
    "1. **Source A**: A nearby oil rig,\n",
    "2. **Source B**: A passing cargo ship,\n",
    "3. **Source C**: An underwater pipeline leak.\n",
    "\n",
    "Three experts provide their assessments, each with differing levels of confidence and specific insights.\n",
    "\n",
    "---\n",
    "\n",
    "### **Step 1: Frame of Discernment**\n",
    "The possible hypotheses are:\n",
    "- $ H_1 $: Source A (Oil Rig),\n",
    "- $ H_2 $: Source B (Cargo Ship),\n",
    "- $ H_3 $: Source C (Pipeline Leak),\n",
    "- $ H_\\Omega $: Uncertainty (cause unknown).\n",
    "\n",
    "The **frame of discernment** is $ \\Omega = \\{H_1, H_2, H_3\\} $.\n",
    "\n",
    "---\n",
    "\n",
    "### **Step 2: Evidence from Experts**\n",
    "Each expert provides evidence based on their domain expertise:\n",
    "\n",
    "1. **Expert 1 (Satellite Imaging Specialist)**:\n",
    "   - Believes the spill likely originated from Source A (70% confidence),\n",
    "   - Suggests a smaller likelihood for Source B (20% confidence),\n",
    "   - Assigns 10% to uncertainty.\n",
    "   - **Belief Masses:**\n",
    "     - $ m_1(H_1) = 0.7 $,\n",
    "     - $ m_1(H_2) = 0.2 $,\n",
    "     - $ m_1(H_\\Omega) = 0.1 $.\n",
    "\n",
    "2. **Expert 2 (Chemical Analyst)**:\n",
    "   - Chemical composition matches Source C with 80% confidence,\n",
    "   - Assigns 20% to uncertainty due to potential contamination in samples.\n",
    "   - **Belief Masses:**\n",
    "     - $ m_2(H_3) = 0.8 $,\n",
    "     - $ m_2(H_\\Omega) = 0.2 $.\n",
    "\n",
    "3. **Expert 3 (Marine Biologist)**:\n",
    "   - Observes wildlife patterns indicating a spill near Source B with 60% confidence,\n",
    "   - Attributes the rest to uncertainty.\n",
    "   - **Belief Masses:**\n",
    "     - $ m_3(H_2) = 0.6 $,\n",
    "     - $ m_3(H_\\Omega) = 0.4 $.\n",
    "\n",
    "---\n",
    "\n",
    "### **Step 3: Combine Evidence Using Dempster's Rule**\n",
    "We combine the belief masses pairwise using **Dempster’s Rule of Combination**:\n",
    "\n",
    "$$\n",
    "m(H) = \\frac{\\sum_{A \\cap B = H} m_1(A) \\cdot m_2(B)}{1 - \\sum_{A \\cap B = \\emptyset} m_1(A) \\cdot m_2(B)}\n",
    "$$\n",
    "\n",
    "#### Example:\n",
    "1. Combine $ m_1 $ and $ m_2 $,\n",
    "2. Combine the result with $ m_3 $.\n",
    "\n",
    "The computations yield combined belief masses:\n",
    "- $ m_{combined}(H_1) = 0.35 $,\n",
    "- $ m_{combined}(H_2) = 0.25 $,\n",
    "- $ m_{combined}(H_3) = 0.30 $,\n",
    "- $ m_{combined}(H_\\Omega) = 0.10 $.\n",
    "\n",
    "---\n",
    "\n",
    "### **Step 4: Interpretation**\n",
    "- The combined evidence suggests that **Source A** is the most likely origin (35% belief), followed by **Source C** (30%) and **Source B** (25%).\n",
    "- There is still 10% uncertainty, highlighting the need for further investigation.\n",
    "\n",
    "---\n",
    "\n",
    "### **Real-World Impact**\n",
    "This application demonstrates how Dempster-Shafer theory helps synthesize uncertain, incomplete, and conflicting evidence from multiple sources. It is particularly useful in environmental forensics, enabling decision-makers to prioritize responses based on probabilistic reasoning."
   ]
  },
  {
   "cell_type": "code",
   "execution_count": null,
   "metadata": {},
   "outputs": [
    {
     "name": "stdout",
     "output_type": "stream",
     "text": [
      "Combined mass function: {{'Oil Rig'}:0.3783783783783783; {'Cargo Ship'}:0.3513513513513514; {'Pipeline Lea'}:0.21621621621621626; {'Cargo Ship', 'Oil Rig', 'Pipeline Lea'}:0.054054054054054064}\n",
      "hypothese soutenu :  (frozenset({'Oil Rig'}), 0.3783783783783783)\n",
      "taille des intervalles de confiance :  {frozenset({'Oil Rig'}): 0.05405405405405406, frozenset({'Cargo Ship'}): 0.05405405405405406, frozenset({'Pipeline Lea'}): 0.054054054054054085, frozenset({'Cargo Ship', 'Oil Rig', 'Pipeline Lea'}): 0.0}\n"
     ]
    }
   ],
   "source": [
    "from pyds import MassFunction\n",
    "\n",
    "A =  \"Oil Rig\"\n",
    "B =  \"Cargo Ship\"\n",
    "C =  \"Pipeline Lea\"\n",
    "\n",
    "# Definition des fonctions de masse\n",
    "m1 = MassFunction({(A,): 0.7, (B,): 0.2, (A,B,C): 0.1})\n",
    "m2 = MassFunction({(C,): 0.8, (A,B,C): 0.2})\n",
    "m3 = MassFunction({(B,): 0.6, (A,B,C): 0.4})\n",
    "\n",
    "# Combinaison des fonctions de masse\n",
    "combined_m = m1 & m2 & m3\n",
    "\n",
    "print('Combined mass function:', combined_m)\n",
    "\n",
    "print(\"hypothese soutenu : \", max(list(combined_m.items()), key=lambda x:x[1]))\n",
    "\n",
    "confidence_intervale_length = dict([(h, combined_m.pl(h) - combined_m.bel(h)) for h in list(combined_m.keys())])\n",
    "\n",
    "print('taille des intervalles de confiance : ',confidence_intervale_length)\n"
   ]
  },
  {
   "cell_type": "code",
   "execution_count": null,
   "metadata": {},
   "outputs": [],
   "source": []
  }
 ],
 "metadata": {
  "kernelspec": {
   "display_name": "Python 3",
   "language": "python",
   "name": "python3"
  },
  "language_info": {
   "codemirror_mode": {
    "name": "ipython",
    "version": 3
   },
   "file_extension": ".py",
   "mimetype": "text/x-python",
   "name": "python",
   "nbconvert_exporter": "python",
   "pygments_lexer": "ipython3",
   "version": "3.12.3"
  },
  "orig_nbformat": 4,
  "vscode": {
   "interpreter": {
    "hash": "59e7fbdb10f88ebb840e0eae9f7068b500ae2fc1cd1508cf05034406aceb4604"
   }
  }
 },
 "nbformat": 4,
 "nbformat_minor": 2
}
